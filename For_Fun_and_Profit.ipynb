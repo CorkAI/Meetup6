{
 "cells": [
  {
   "cell_type": "markdown",
   "metadata": {},
   "source": [
    "## Title\n",
    "Using Public Datasets and APIs for Fun and Profit\n",
    "\n",
    "### Description\n",
    "The amount and breadth of datasets publicly available to any person on the planet is mind-blowing, and can be put to great use with very little to no development effort.\n",
    "This talk/ workshop will give an overview of some of the data sources and APIs that are freely available and how we can use them quickly and effectively.\n",
    "\n",
    "### We can...\n",
    "* recommend repositories based on Github Archive data,\n",
    "* propose videos to watch based on the Youtube API,\n",
    "* analyze social and language patterns based on Reddit posts and comments,\n",
    "* analyze trends using the Twitter API,\n",
    "* follow world events using GDELT news coverage,\n",
    "* enrich our applications using structured Wikipedia/ wikidata/ dbpedia/ yago entries,\n",
    "* analyze the web using CommonCrawl data,\n",
    "* find out about the world from Geonames and OpenStreetMaps."
   ]
  },
  {
   "cell_type": "markdown",
   "metadata": {},
   "source": [
    "### Setting Up Google BigQuery\n",
    "\n",
    "* https://bigquery.cloud.google.com\n",
    "* sign in with google/ gmail account\n",
    "* Create Project\n",
    "* (this seems to hang a bit)\n",
    "* go back to original URL and select \"enable on existing project\" and choose your project.\n",
    "\n",
    "#### Interesting Projects\n",
    "\n",
    "* https://bigquery.cloud.google.com/dataset/fh-bigquery:reddit_posts\n",
    "* https://bigquery.cloud.google.com/dataset/fh-bigquery:reddit_comments\n",
    "* https://bigquery.cloud.google.com/dataset/fh-bigquery:stackoverflow_archive\n",
    "* https://bigquery.cloud.google.com/table/githubarchive:month.201809?tab=preview\n",
    "* https://bigquery.cloud.google.com/table/gdelt-bq:full.events"
   ]
  }
 ],
 "metadata": {
  "kernelspec": {
   "display_name": "Python 3",
   "language": "python",
   "name": "python3"
  },
  "language_info": {
   "codemirror_mode": {
    "name": "ipython",
    "version": 3
   },
   "file_extension": ".py",
   "mimetype": "text/x-python",
   "name": "python",
   "nbconvert_exporter": "python",
   "pygments_lexer": "ipython3",
   "version": "3.6.5"
  }
 },
 "nbformat": 4,
 "nbformat_minor": 2
}
