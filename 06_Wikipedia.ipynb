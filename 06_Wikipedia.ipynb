{
 "cells": [
  {
   "cell_type": "markdown",
   "metadata": {},
   "source": [
    "## Wikipedia\n",
    "\n",
    "Wikipedia is a treasure trove of information, not just for unstructured data, but also structured data in the form of \"infoboxes\".\n",
    "\n",
    "Various projects are working to extract this structured data, including\n",
    "\n",
    "* Yago\n",
    "* Dbpedia\n",
    "* [Dbpedia as Tables](http://web.informatik.uni-mannheim.de/DBpediaAsTables/DBpedia-en-2016-04/DBpediaClasses.htm)\n",
    "* WikiData"
   ]
  },
  {
   "cell_type": "markdown",
   "metadata": {},
   "source": [
    "## DbPedia as Tables"
   ]
  },
  {
   "cell_type": "code",
   "execution_count": 46,
   "metadata": {},
   "outputs": [],
   "source": [
    "from io import BytesIO\n",
    "import urllib.request\n",
    "import gzip\n",
    "import json\n",
    "from itertools import islice\n",
    "import re\n",
    "\n",
    "import pandas as pd\n",
    "\n",
    "\n",
    "def get_tables(url):\n",
    "    buffer = BytesIO(urllib.request.urlopen(url).read())\n",
    "    with gzip.open(buffer, 'r') as fhandle:\n",
    "        return json.loads(fhandle.read())['instances']\n",
    "\n",
    "    \n",
    "def remove_nulls(elt):\n",
    "    if isinstance(elt, list):\n",
    "        return [remove_nulls(x) for x in elt]\n",
    "    elif isinstance(elt, dict):\n",
    "        return {k: remove_nulls(v) for k, v in elt.items()\n",
    "                if v != 'NULL'}\n",
    "    else:\n",
    "        return elt"
   ]
  },
  {
   "cell_type": "markdown",
   "metadata": {},
   "source": [
    "## DbPedia Universities"
   ]
  },
  {
   "cell_type": "code",
   "execution_count": 47,
   "metadata": {},
   "outputs": [],
   "source": [
    "UNI_URL = 'http://web.informatik.uni-mannheim.de/DBpediaAsTables/DBpedia-en-2016-04/json/University.json.gz'\n",
    "    \n",
    "universities = remove_nulls(get_tables(UNI_URL))"
   ]
  },
  {
   "cell_type": "code",
   "execution_count": 48,
   "metadata": {},
   "outputs": [
    {
     "data": {
      "text/plain": [
       "19777"
      ]
     },
     "execution_count": 48,
     "metadata": {},
     "output_type": "execute_result"
    }
   ],
   "source": [
    "len(universities)"
   ]
  },
  {
   "cell_type": "code",
   "execution_count": 69,
   "metadata": {
    "scrolled": false
   },
   "outputs": [
    {
     "name": "stdout",
     "output_type": "stream",
     "text": [
      "{\n",
      "    \"University_College_Cork\": {\n",
      "        \"http://www.w3.org/2000/01/rdf-schema#label\": \"University College Cork\",\n",
      "        \"president_label\": \"Michael Murphy (academic)\",\n",
      "        \"country\": \"Republic_of_Ireland\",\n",
      "        \"http://www.w3.org/2003/01/geo/wgs84_pos#lat\": \"51.893\",\n",
      "        \"motto\": \"Where Finbarr Taught Let Munster Learn\",\n",
      "        \"city\": \"Cork_(city)\",\n",
      "        \"http://www.w3.org/1999/02/22-rdf-syntax-ns#type_label\": [\n",
      "            \"owl#Thing\",\n",
      "            \"organisation\",\n",
      "            \"university\",\n",
      "            \"educational institution\",\n",
      "            \"agent\",\n",
      "            \"DUL.owl#Agent\",\n",
      "            \"Organization\",\n",
      "            \"DUL.owl#SocialPerson\",\n",
      "            \"Q43229\",\n",
      "            \"CollegeOrUniversity\",\n",
      "            \"Q3918\",\n",
      "            \"EducationalOrganization\",\n",
      "            \"wgs84_pos#SpatialThing\"\n",
      "        ],\n",
      "        \"country_label\": \"Republic of Ireland\",\n",
      "        \"http://www.w3.org/2003/01/geo/wgs84_pos#long\": \"-8.493\",\n",
      "        \"http://www.w3.org/1999/02/22-rdf-syntax-ns#type\": [\n",
      "            \"http://www.w3.org/2002/07/owl#Thing\",\n",
      "            \"Organisation\",\n",
      "            \"University\",\n",
      "            \"EducationalInstitution\",\n",
      "            \"Agent\",\n",
      "            \"http://www.ontologydesignpatterns.org/ont/dul/DUL.owl#Agent\",\n",
      "            \"http://schema.org/Organization\",\n",
      "            \"http://www.ontologydesignpatterns.org/ont/dul/DUL.owl#SocialPerson\",\n",
      "            \"http://www.wikidata.org/entity/Q43229\",\n",
      "            \"http://schema.org/CollegeOrUniversity\",\n",
      "            \"http://www.wikidata.org/entity/Q3918\",\n",
      "            \"http://schema.org/EducationalOrganization\",\n",
      "            \"http://www.w3.org/2003/01/geo/wgs84_pos#SpatialThing\"\n",
      "        ],\n",
      "        \"facultySize\": \"762\",\n",
      "        \"president\": \"Michael_Murphy_(academic)\",\n",
      "        \"numberOfPostgraduateStudents\": \"3663\",\n",
      "        \"affiliation\": [\n",
      "            \"National_University_of_Ireland\",\n",
      "            \"European_University_Association\",\n",
      "            \"Utrecht_Network\",\n",
      "            \"Atlantic_University_Alliance\"\n",
      "        ],\n",
      "        \"http://www.georss.org/georss/point\": \"51.893 -8.493\",\n",
      "        \"numberOfUndergraduateStudents\": \"12791\",\n",
      "        \"city_label\": \"Cork (city)\",\n",
      "        \"affiliation_label\": [\n",
      "            \"National University of Ireland\",\n",
      "            \"European University Association\",\n",
      "            \"Utrecht Network\",\n",
      "            \"Atlantic University Alliance\"\n",
      "        ]\n",
      "    }\n",
      "}\n"
     ]
    }
   ],
   "source": [
    "import re\n",
    "\n",
    "shorter = re.compile(r'https?://dbpedia.org/[^/]+/')\n",
    "\n",
    "def readable(elt):\n",
    "    if isinstance(elt, list):\n",
    "        return [readable(x) for x in elt]\n",
    "    elif isinstance(elt, dict):\n",
    "        return {readable(k): readable(v) for k, v in elt.items()}\n",
    "    elif isinstance(elt, str):\n",
    "        return shorter.sub('', elt)\n",
    "    else:\n",
    "        return elt\n",
    "\n",
    "\n",
    "query = 'University.College.Cork'\n",
    "for uni in universities:\n",
    "    rex = re.compile(query, flags=re.I)\n",
    "    if any(rex.search(k) for k in uni.keys()):\n",
    "        print(json.dumps(readable(uni), indent=4))"
   ]
  },
  {
   "cell_type": "code",
   "execution_count": 71,
   "metadata": {},
   "outputs": [],
   "source": [
    "COMPANY_URL = 'http://web.informatik.uni-mannheim.de/DBpediaAsTables/DBpedia-en-2016-04/json/Company.json.gz'\n",
    "companies = remove_nulls(get_tables(COMPANY_URL))"
   ]
  },
  {
   "cell_type": "code",
   "execution_count": 72,
   "metadata": {},
   "outputs": [
    {
     "data": {
      "text/plain": [
       "67544"
      ]
     },
     "execution_count": 72,
     "metadata": {},
     "output_type": "execute_result"
    }
   ],
   "source": [
    "len(companies)"
   ]
  },
  {
   "cell_type": "code",
   "execution_count": 81,
   "metadata": {},
   "outputs": [
    {
     "name": "stdout",
     "output_type": "stream",
     "text": [
      "{\n",
      "    \"EMC_Corporation\": {\n",
      "        \"subsidiary_label\": [\n",
      "            \"RSA Security\",\n",
      "            \"VMware\",\n",
      "            \"LenovoEMC\"\n",
      "        ],\n",
      "        \"numberOfEmployees\": \"50000\",\n",
      "        \"product_label\": \"EMC Corporation\",\n",
      "        \"locationCity\": [\n",
      "            \"Hopkinton,_Massachusetts\",\n",
      "            \"Massachusetts\"\n",
      "        ],\n",
      "        \"locationCity_label\": [\n",
      "            \"Hopkinton Massachusetts\",\n",
      "            \"Massachusetts\"\n",
      "        ],\n",
      "        \"type\": \"Public_company\",\n",
      "        \"industry\": \"Computer_data_storage\",\n",
      "        \"keyPerson\": [\n",
      "            \"Joseph_M._Tucci\",\n",
      "            \"President\",\n",
      "            \"Chief_executive_officer\",\n",
      "            \"Chairman\"\n",
      "        ],\n",
      "        \"revenue\": \"2.444E10\",\n",
      "        \"keyPerson_label\": [\n",
      "            \"Joseph M. Tucci\",\n",
      "            \"President\",\n",
      "            \"Chief executive officer\",\n",
      "            \"Chairman\"\n",
      "        ],\n",
      "        \"http://www.w3.org/2000/01/rdf-schema#label\": \"EMC Corporation\",\n",
      "        \"type_label\": \"Public company\",\n",
      "        \"foundingYear\": \"1979\",\n",
      "        \"product\": \"EMC_Corporation\",\n",
      "        \"operatingIncome\": \"4.037E9\",\n",
      "        \"http://www.w3.org/1999/02/22-rdf-syntax-ns#type_label\": [\n",
      "            \"owl#Thing\",\n",
      "            \"organisation\",\n",
      "            \"company\",\n",
      "            \"agent\",\n",
      "            \"DUL.owl#Agent\",\n",
      "            \"Organization\",\n",
      "            \"DUL.owl#SocialPerson\",\n",
      "            \"Q43229\"\n",
      "        ],\n",
      "        \"http://www.w3.org/1999/02/22-rdf-syntax-ns#type\": [\n",
      "            \"http://www.w3.org/2002/07/owl#Thing\",\n",
      "            \"Organisation\",\n",
      "            \"Company\",\n",
      "            \"Agent\",\n",
      "            \"http://www.ontologydesignpatterns.org/ont/dul/DUL.owl#Agent\",\n",
      "            \"http://schema.org/Organization\",\n",
      "            \"http://www.ontologydesignpatterns.org/ont/dul/DUL.owl#SocialPerson\",\n",
      "            \"http://www.wikidata.org/entity/Q43229\"\n",
      "        ],\n",
      "        \"equity\": \"2.3525E10\",\n",
      "        \"netIncome\": \"2.714E9\",\n",
      "        \"industry_label\": \"Computer data storage\",\n",
      "        \"assets\": \"4.5885E10\",\n",
      "        \"subsidiary\": [\n",
      "            \"RSA_Security\",\n",
      "            \"VMware\",\n",
      "            \"LenovoEMC\"\n",
      "        ]\n",
      "    }\n",
      "}\n"
     ]
    }
   ],
   "source": [
    "query = 'EMC_Corporation'\n",
    "for company in companies:\n",
    "    rex = re.compile(query)\n",
    "    if any(rex.search(k) for k in company.keys()):\n",
    "        print(json.dumps(readable(company), indent=4))\n",
    "        break"
   ]
  },
  {
   "cell_type": "code",
   "execution_count": null,
   "metadata": {},
   "outputs": [],
   "source": []
  }
 ],
 "metadata": {
  "kernelspec": {
   "display_name": "Python 3",
   "language": "python",
   "name": "python3"
  },
  "language_info": {
   "codemirror_mode": {
    "name": "ipython",
    "version": 3
   },
   "file_extension": ".py",
   "mimetype": "text/x-python",
   "name": "python",
   "nbconvert_exporter": "python",
   "pygments_lexer": "ipython3",
   "version": "3.6.5"
  }
 },
 "nbformat": 4,
 "nbformat_minor": 2
}
